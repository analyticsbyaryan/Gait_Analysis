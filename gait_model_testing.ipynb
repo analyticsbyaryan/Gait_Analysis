{
 "cells": [
  {
   "cell_type": "code",
   "execution_count": 1,
   "metadata": {},
   "outputs": [],
   "source": [
    "import pandas as pd\n",
    "import matplotlib.pyplot as plt\n",
    "import seaborn as sns\n",
    "import numpy as np\n",
    "from sklearn.model_selection import train_test_split, GridSearchCV, cross_val_score\n",
    "from sklearn.svm import SVC\n",
    "from sklearn.preprocessing import StandardScaler\n",
    "from sklearn.metrics import accuracy_score, classification_report, confusion_matrix\n",
    "\n",
    "\n",
    "df= pd.read_csv(r\"D:\\DEPAUL\\OTHER\\PROJECTS\\Gait analysis\\Dataset\\Gait_analysis.csv\")\n",
    "#df.head(50)"
   ]
  },
  {
   "cell_type": "code",
   "execution_count": 2,
   "metadata": {},
   "outputs": [
    {
     "name": "stdout",
     "output_type": "stream",
     "text": [
      "111    1\n",
      "dtype: int64\n",
      "Series([], dtype: int64)\n"
     ]
    }
   ],
   "source": [
    "#filling missing values using imputer\n",
    "#handling nan values\n",
    "missing_counts=df.isnull().sum()\n",
    "print(missing_counts[missing_counts > 0])\n",
    "\n",
    "#replacing NAN value\n",
    "from sklearn.impute import KNNImputer\n",
    "\n",
    "imputer = KNNImputer(n_neighbors=5)  # Use 5 nearest neighbors\n",
    "X_imputed = imputer.fit_transform(df)  # Returns a NumPy array\n",
    "\n",
    "df = pd.DataFrame(X_imputed, columns=df.columns)  # Convert back to DataFrame\n",
    "\n",
    "c= df.isnull().sum() \n",
    "print(c[c>0])"
   ]
  },
  {
   "cell_type": "code",
   "execution_count": null,
   "metadata": {},
   "outputs": [],
   "source": [
    "#df.to_csv(\"Gait_analysis_cleaned.csv\", index=False)"
   ]
  },
  {
   "cell_type": "code",
   "execution_count": 3,
   "metadata": {},
   "outputs": [],
   "source": [
    "\n",
    "X = df.drop(columns=['Person_ID'])  \n",
    "Y = df['Person_ID']\n",
    "\n"
   ]
  },
  {
   "cell_type": "markdown",
   "metadata": {},
   "source": [
    "CHECKING MULTICOLINEARITY AND CORRELATION"
   ]
  },
  {
   "cell_type": "code",
   "execution_count": 4,
   "metadata": {},
   "outputs": [
    {
     "name": "stdout",
     "output_type": "stream",
     "text": [
      "✅ Selected 212 Highly Correlated Features (>|0.85|):\n",
      "['19', '26', '15', '95', '157', '63', '230', '205', '285', '172', '149', '260', '51', '146', '133', '97', '38', '148', '280', '184', '204', '279', '1', '53', '214', '36', '200', '93', '180', '235', '295', '216', '29', '176', '257', '156', '92', '123', '283', '8', '269', '288', '308', '115', '27', '190', '169', '264', '60', '139', '59', '47', '86', '104', '7', '291', '24', '227', '274', '141', '122', '300', '159', '20', '266', '110', '116', '143', '187', '162', '151', '229', '224', '296', '220', '312', '191', '173', '177', '223', '261', '83', '34', '37', '178', '35', '154', '16', '254', '199', '82', '221', '6', '45', '105', '298', '107', '0', '50', '85', '167', '262', '5', '217', '208', '318', '32', '121', '113', '88', '273', '111', '287', '252', '170', '304', '134', '10', '219', '276', '158', '91', '189', '319', '109', '23', '253', '171', '258', '271', '153', '102', '281', '150', '87', '250', '320', '236', '166', '218', '278', '14', '89', '17', '140', '44', '144', '163', '164', '301', '54', '307', '234', '114', '56', '66', '292', '267', '293', '207', '2', '18', '142', '145', '263', '65', '215', '25', '99', '3', '117', '270', '55', '155', '21', '9', '126', '203', '103', '251', '290', '282', '40', '175', '165', '52', '188', '174', '127', '265', '310', '259', '168', '309', '48', '147', '135', '183', '179', '98', '101', '112', '96', '247', '206', '125', '294', '222', '31', '13', '275', '28']\n"
     ]
    }
   ],
   "source": [
    "import seaborn as sns\n",
    "import matplotlib.pyplot as plt\n",
    "import numpy as np\n",
    "\n",
    "# Compute correlation matrix\n",
    "corr_matrix = X.corr()\n",
    "\n",
    "# Set correlation threshold (absolute value)\n",
    "corr_threshold = 0.85  # Adjust if needed\n",
    "\n",
    "# Filter only highly correlated features\n",
    "high_corr_features = set()\n",
    "for i in range(len(corr_matrix.columns)):\n",
    "    for j in range(i):\n",
    "        if abs(corr_matrix.iloc[i, j]) > corr_threshold:\n",
    "            high_corr_features.add(corr_matrix.columns[i])\n",
    "            high_corr_features.add(corr_matrix.columns[j])\n",
    "\n",
    "# Convert set to list\n",
    "high_corr_features = list(high_corr_features)\n",
    "\n",
    "print(f\"✅ Selected {len(high_corr_features)} Highly Correlated Features (>|{corr_threshold}|):\")\n",
    "print(high_corr_features)\n"
   ]
  },
  {
   "cell_type": "code",
   "execution_count": 5,
   "metadata": {},
   "outputs": [
    {
     "name": "stderr",
     "output_type": "stream",
     "text": [
      "d:\\DEPAUL\\OTHER\\PROJECTS\\Gait analysis\\venv\\Lib\\site-packages\\statsmodels\\stats\\outliers_influence.py:197: RuntimeWarning: divide by zero encountered in scalar divide\n",
      "  vif = 1. / (1. - r_squared_i)\n"
     ]
    },
    {
     "name": "stdout",
     "output_type": "stream",
     "text": [
      "✅ Selected 321 Features with High VIF (>5):\n",
      "['0', '1', '2', '3', '4', '5', '6', '7', '8', '9', '10', '11', '12', '13', '14', '15', '16', '17', '18', '19', '20', '21', '22', '23', '24', '25', '26', '27', '28', '29', '30', '31', '32', '33', '34', '35', '36', '37', '38', '39', '40', '41', '42', '43', '44', '45', '46', '47', '48', '49', '50', '51', '52', '53', '54', '55', '56', '57', '58', '59', '60', '61', '62', '63', '64', '65', '66', '67', '68', '69', '70', '71', '72', '73', '74', '75', '76', '77', '78', '79', '80', '81', '82', '83', '84', '85', '86', '87', '88', '89', '90', '91', '92', '93', '94', '95', '96', '97', '98', '99', '100', '101', '102', '103', '104', '105', '106', '107', '108', '109', '110', '111', '112', '113', '114', '115', '116', '117', '118', '119', '120', '121', '122', '123', '124', '125', '126', '127', '128', '129', '130', '131', '132', '133', '134', '135', '136', '137', '138', '139', '140', '141', '142', '143', '144', '145', '146', '147', '148', '149', '150', '151', '152', '153', '154', '155', '156', '157', '158', '159', '160', '161', '162', '163', '164', '165', '166', '167', '168', '169', '170', '171', '172', '173', '174', '175', '176', '177', '178', '179', '180', '181', '182', '183', '184', '185', '186', '187', '188', '189', '190', '191', '192', '193', '194', '195', '196', '197', '198', '199', '200', '201', '202', '203', '204', '205', '206', '207', '208', '209', '210', '211', '212', '213', '214', '215', '216', '217', '218', '219', '220', '221', '222', '223', '224', '225', '226', '227', '228', '229', '230', '231', '232', '233', '234', '235', '236', '237', '238', '239', '240', '241', '242', '243', '244', '245', '246', '247', '248', '249', '250', '251', '252', '253', '254', '255', '256', '257', '258', '259', '260', '261', '262', '263', '264', '265', '266', '267', '268', '269', '270', '271', '272', '273', '274', '275', '276', '277', '278', '279', '280', '281', '282', '283', '284', '285', '286', '287', '288', '289', '290', '291', '292', '293', '294', '295', '296', '297', '298', '299', '300', '301', '302', '303', '304', '305', '306', '307', '308', '309', '310', '311', '312', '313', '314', '315', '316', '317', '318', '319', '320']\n",
      "🔍 High VIF Features:\n",
      "    Feature  VIF\n",
      "320     320  inf\n",
      "304     304  inf\n",
      "303     303  inf\n",
      "302     302  inf\n",
      "301     301  inf\n",
      "..      ...  ...\n",
      "5         5  inf\n",
      "4         4  inf\n",
      "3         3  inf\n",
      "2         2  inf\n",
      "1         1  inf\n",
      "\n",
      "[321 rows x 2 columns]\n"
     ]
    }
   ],
   "source": [
    "from statsmodels.stats.outliers_influence import variance_inflation_factor\n",
    "import pandas as pd\n",
    "\n",
    "# Compute VIF for all features\n",
    "vif_data = pd.DataFrame()\n",
    "vif_data[\"Feature\"] = X.columns\n",
    "vif_data[\"VIF\"] = [variance_inflation_factor(X.values, i) for i in range(X.shape[1])]\n",
    "\n",
    "# Set VIF threshold (e.g., >5 indicates moderate multicollinearity)\n",
    "vif_threshold = 5\n",
    "high_vif_features = vif_data[vif_data[\"VIF\"] > vif_threshold][\"Feature\"].tolist()\n",
    "\n",
    "print(f\"✅ Selected {len(high_vif_features)} Features with High VIF (>{vif_threshold}):\")\n",
    "print(high_vif_features)\n",
    "\n",
    "# Display only the high-VIF features\n",
    "print(\"🔍 High VIF Features:\")\n",
    "print(vif_data[vif_data[\"VIF\"] > vif_threshold].sort_values(by=\"VIF\", ascending=False))\n",
    "\n"
   ]
  },
  {
   "cell_type": "code",
   "execution_count": null,
   "metadata": {},
   "outputs": [],
   "source": []
  },
  {
   "cell_type": "markdown",
   "metadata": {},
   "source": [
    "BASIC MODEL ACCURACY\n"
   ]
  },
  {
   "cell_type": "code",
   "execution_count": 6,
   "metadata": {},
   "outputs": [
    {
     "name": "stdout",
     "output_type": "stream",
     "text": [
      "Classification Accuracy: 0.70\n",
      "Classification Accuracy: 0.70\n",
      "Classification Accuracy: 0.70\n",
      "\n",
      "Classification Report:\n",
      "               precision    recall  f1-score   support\n",
      "\n",
      "         1.0       1.00      1.00      1.00         1\n",
      "         3.0       0.00      0.00      0.00         0\n",
      "         4.0       1.00      1.00      1.00         1\n",
      "         6.0       1.00      1.00      1.00         1\n",
      "         8.0       0.00      0.00      0.00         3\n",
      "         9.0       1.00      1.00      1.00         1\n",
      "        12.0       1.00      1.00      1.00         1\n",
      "        13.0       1.00      1.00      1.00         1\n",
      "        14.0       1.00      1.00      1.00         1\n",
      "\n",
      "    accuracy                           0.70        10\n",
      "   macro avg       0.78      0.78      0.78        10\n",
      "weighted avg       0.70      0.70      0.70        10\n",
      "\n",
      "\n",
      "Classification Report:\n",
      "               precision    recall  f1-score   support\n",
      "\n",
      "         1.0       1.00      1.00      1.00         1\n",
      "         2.0       0.00      0.00      0.00         0\n",
      "         3.0       0.00      0.00      0.00         0\n",
      "         4.0       1.00      1.00      1.00         1\n",
      "         6.0       1.00      1.00      1.00         1\n",
      "         8.0       0.00      0.00      0.00         3\n",
      "         9.0       1.00      1.00      1.00         1\n",
      "        12.0       1.00      1.00      1.00         1\n",
      "        13.0       1.00      1.00      1.00         1\n",
      "        14.0       1.00      1.00      1.00         1\n",
      "\n",
      "    accuracy                           0.70        10\n",
      "   macro avg       0.70      0.70      0.70        10\n",
      "weighted avg       0.70      0.70      0.70        10\n",
      "\n",
      "\n",
      "Classification Report:\n",
      "               precision    recall  f1-score   support\n",
      "\n",
      "         1.0       1.00      1.00      1.00         1\n",
      "         2.0       0.00      0.00      0.00         0\n",
      "         3.0       0.00      0.00      0.00         0\n",
      "         4.0       1.00      1.00      1.00         1\n",
      "         6.0       1.00      1.00      1.00         1\n",
      "         8.0       0.00      0.00      0.00         3\n",
      "         9.0       1.00      1.00      1.00         1\n",
      "        12.0       1.00      1.00      1.00         1\n",
      "        13.0       1.00      1.00      1.00         1\n",
      "        14.0       1.00      1.00      1.00         1\n",
      "\n",
      "    accuracy                           0.70        10\n",
      "   macro avg       0.70      0.70      0.70        10\n",
      "weighted avg       0.70      0.70      0.70        10\n",
      "\n"
     ]
    },
    {
     "name": "stderr",
     "output_type": "stream",
     "text": [
      "d:\\DEPAUL\\OTHER\\PROJECTS\\Gait analysis\\venv\\Lib\\site-packages\\sklearn\\metrics\\_classification.py:1565: UndefinedMetricWarning: Precision is ill-defined and being set to 0.0 in labels with no predicted samples. Use `zero_division` parameter to control this behavior.\n",
      "  _warn_prf(average, modifier, f\"{metric.capitalize()} is\", len(result))\n",
      "d:\\DEPAUL\\OTHER\\PROJECTS\\Gait analysis\\venv\\Lib\\site-packages\\sklearn\\metrics\\_classification.py:1565: UndefinedMetricWarning: Recall is ill-defined and being set to 0.0 in labels with no true samples. Use `zero_division` parameter to control this behavior.\n",
      "  _warn_prf(average, modifier, f\"{metric.capitalize()} is\", len(result))\n",
      "d:\\DEPAUL\\OTHER\\PROJECTS\\Gait analysis\\venv\\Lib\\site-packages\\sklearn\\metrics\\_classification.py:1565: UndefinedMetricWarning: Precision is ill-defined and being set to 0.0 in labels with no predicted samples. Use `zero_division` parameter to control this behavior.\n",
      "  _warn_prf(average, modifier, f\"{metric.capitalize()} is\", len(result))\n",
      "d:\\DEPAUL\\OTHER\\PROJECTS\\Gait analysis\\venv\\Lib\\site-packages\\sklearn\\metrics\\_classification.py:1565: UndefinedMetricWarning: Recall is ill-defined and being set to 0.0 in labels with no true samples. Use `zero_division` parameter to control this behavior.\n",
      "  _warn_prf(average, modifier, f\"{metric.capitalize()} is\", len(result))\n",
      "d:\\DEPAUL\\OTHER\\PROJECTS\\Gait analysis\\venv\\Lib\\site-packages\\sklearn\\metrics\\_classification.py:1565: UndefinedMetricWarning: Precision is ill-defined and being set to 0.0 in labels with no predicted samples. Use `zero_division` parameter to control this behavior.\n",
      "  _warn_prf(average, modifier, f\"{metric.capitalize()} is\", len(result))\n",
      "d:\\DEPAUL\\OTHER\\PROJECTS\\Gait analysis\\venv\\Lib\\site-packages\\sklearn\\metrics\\_classification.py:1565: UndefinedMetricWarning: Recall is ill-defined and being set to 0.0 in labels with no true samples. Use `zero_division` parameter to control this behavior.\n",
      "  _warn_prf(average, modifier, f\"{metric.capitalize()} is\", len(result))\n",
      "d:\\DEPAUL\\OTHER\\PROJECTS\\Gait analysis\\venv\\Lib\\site-packages\\sklearn\\metrics\\_classification.py:1565: UndefinedMetricWarning: Precision is ill-defined and being set to 0.0 in labels with no predicted samples. Use `zero_division` parameter to control this behavior.\n",
      "  _warn_prf(average, modifier, f\"{metric.capitalize()} is\", len(result))\n",
      "d:\\DEPAUL\\OTHER\\PROJECTS\\Gait analysis\\venv\\Lib\\site-packages\\sklearn\\metrics\\_classification.py:1565: UndefinedMetricWarning: Recall is ill-defined and being set to 0.0 in labels with no true samples. Use `zero_division` parameter to control this behavior.\n",
      "  _warn_prf(average, modifier, f\"{metric.capitalize()} is\", len(result))\n",
      "d:\\DEPAUL\\OTHER\\PROJECTS\\Gait analysis\\venv\\Lib\\site-packages\\sklearn\\metrics\\_classification.py:1565: UndefinedMetricWarning: Precision is ill-defined and being set to 0.0 in labels with no predicted samples. Use `zero_division` parameter to control this behavior.\n",
      "  _warn_prf(average, modifier, f\"{metric.capitalize()} is\", len(result))\n",
      "d:\\DEPAUL\\OTHER\\PROJECTS\\Gait analysis\\venv\\Lib\\site-packages\\sklearn\\metrics\\_classification.py:1565: UndefinedMetricWarning: Recall is ill-defined and being set to 0.0 in labels with no true samples. Use `zero_division` parameter to control this behavior.\n",
      "  _warn_prf(average, modifier, f\"{metric.capitalize()} is\", len(result))\n",
      "d:\\DEPAUL\\OTHER\\PROJECTS\\Gait analysis\\venv\\Lib\\site-packages\\sklearn\\metrics\\_classification.py:1565: UndefinedMetricWarning: Precision is ill-defined and being set to 0.0 in labels with no predicted samples. Use `zero_division` parameter to control this behavior.\n",
      "  _warn_prf(average, modifier, f\"{metric.capitalize()} is\", len(result))\n",
      "d:\\DEPAUL\\OTHER\\PROJECTS\\Gait analysis\\venv\\Lib\\site-packages\\sklearn\\metrics\\_classification.py:1565: UndefinedMetricWarning: Recall is ill-defined and being set to 0.0 in labels with no true samples. Use `zero_division` parameter to control this behavior.\n",
      "  _warn_prf(average, modifier, f\"{metric.capitalize()} is\", len(result))\n",
      "d:\\DEPAUL\\OTHER\\PROJECTS\\Gait analysis\\venv\\Lib\\site-packages\\sklearn\\metrics\\_classification.py:1565: UndefinedMetricWarning: Precision is ill-defined and being set to 0.0 in labels with no predicted samples. Use `zero_division` parameter to control this behavior.\n",
      "  _warn_prf(average, modifier, f\"{metric.capitalize()} is\", len(result))\n",
      "d:\\DEPAUL\\OTHER\\PROJECTS\\Gait analysis\\venv\\Lib\\site-packages\\sklearn\\metrics\\_classification.py:1565: UndefinedMetricWarning: Recall is ill-defined and being set to 0.0 in labels with no true samples. Use `zero_division` parameter to control this behavior.\n",
      "  _warn_prf(average, modifier, f\"{metric.capitalize()} is\", len(result))\n",
      "d:\\DEPAUL\\OTHER\\PROJECTS\\Gait analysis\\venv\\Lib\\site-packages\\sklearn\\metrics\\_classification.py:1565: UndefinedMetricWarning: Precision is ill-defined and being set to 0.0 in labels with no predicted samples. Use `zero_division` parameter to control this behavior.\n",
      "  _warn_prf(average, modifier, f\"{metric.capitalize()} is\", len(result))\n",
      "d:\\DEPAUL\\OTHER\\PROJECTS\\Gait analysis\\venv\\Lib\\site-packages\\sklearn\\metrics\\_classification.py:1565: UndefinedMetricWarning: Recall is ill-defined and being set to 0.0 in labels with no true samples. Use `zero_division` parameter to control this behavior.\n",
      "  _warn_prf(average, modifier, f\"{metric.capitalize()} is\", len(result))\n",
      "d:\\DEPAUL\\OTHER\\PROJECTS\\Gait analysis\\venv\\Lib\\site-packages\\sklearn\\metrics\\_classification.py:1565: UndefinedMetricWarning: Precision is ill-defined and being set to 0.0 in labels with no predicted samples. Use `zero_division` parameter to control this behavior.\n",
      "  _warn_prf(average, modifier, f\"{metric.capitalize()} is\", len(result))\n",
      "d:\\DEPAUL\\OTHER\\PROJECTS\\Gait analysis\\venv\\Lib\\site-packages\\sklearn\\metrics\\_classification.py:1565: UndefinedMetricWarning: Recall is ill-defined and being set to 0.0 in labels with no true samples. Use `zero_division` parameter to control this behavior.\n",
      "  _warn_prf(average, modifier, f\"{metric.capitalize()} is\", len(result))\n"
     ]
    }
   ],
   "source": [
    "from sklearn.model_selection import train_test_split\n",
    "from sklearn.ensemble import RandomForestClassifier\n",
    "from sklearn.metrics import accuracy_score, classification_report  # ✅ Import classification_report\n",
    "\n",
    "model1 = RandomForestClassifier(n_estimators=100, random_state=42)\n",
    "model2 = RandomForestClassifier(max_depth=10, min_samples_leaf= 1, min_samples_split=2, n_estimators=300)\n",
    "model3 = RandomForestClassifier(\n",
    "    max_depth=5,                # Restrict depth to prevent memorization\n",
    "    min_samples_split=5,        # Require at least 5 samples to split a node\n",
    "    min_samples_leaf=3,         # Require at least 3 samples per leaf\n",
    "    n_estimators=200,           # Reduce the number of trees to 200 (avoid excessive complexity)\n",
    "    random_state=42\n",
    ")\n",
    "\n",
    "# Split dataset into 80% training and 20% testing\n",
    "X_train, X_test, Y_train, Y_test = train_test_split(X, Y, test_size=0.20, random_state=42)\n",
    "\n",
    "# Initialize the Random Forest model\n",
    "#model = RandomForestClassifier(n_estimators=100, random_state=42)\n",
    "\n",
    "# Train the model\n",
    "model1.fit(X_train, Y_train)\n",
    "model2.fit(X_train, Y_train)\n",
    "model3.fit(X_train, Y_train)\n",
    "# Make predictions on the test set\n",
    "Y_pred_m1 = model1.predict(X_test)\n",
    "Y_pred_m2 = model2.predict(X_test)\n",
    "Y_pred_m3 = model3.predict(X_test)\n",
    "\n",
    "# Print classification accuracy\n",
    "\n",
    "accuracy_m1 = accuracy_score(Y_test, Y_pred_m1)\n",
    "print(f\"Classification Accuracy: {accuracy_m1:.2f}\")\n",
    "\n",
    "accuracy_m2 = accuracy_score(Y_test, Y_pred_m2)\n",
    "print(f\"Classification Accuracy: {accuracy_m2:.2f}\")\n",
    "\n",
    "accuracy_m3 = accuracy_score(Y_test, Y_pred_m3)\n",
    "print(f\"Classification Accuracy: {accuracy_m3:.2f}\")\n",
    "\n",
    "# Detailed classification report\n",
    "print(\"\\nClassification Report:\\n\", classification_report(Y_test, Y_pred_m1))\n",
    "print(\"\\nClassification Report:\\n\", classification_report(Y_test, Y_pred_m2))\n",
    "print(\"\\nClassification Report:\\n\", classification_report(Y_test, Y_pred_m3))\n"
   ]
  },
  {
   "cell_type": "code",
   "execution_count": 7,
   "metadata": {},
   "outputs": [],
   "source": [
    "#feature selection\n",
    "\n",
    "\n",
    "#variance threshold\n",
    "\n",
    "from sklearn.feature_selection import VarianceThreshold\n",
    "\n",
    "selector = VarianceThreshold(threshold=0.02)  # Remove features with very low variance\n",
    "X_selected = selector.fit_transform(X)\n",
    "\n",
    "#Recursuve feature elimination\n",
    "from sklearn.feature_selection import RFE\n",
    "from sklearn.ensemble import RandomForestClassifier\n",
    "\n",
    "model = RandomForestClassifier()\n",
    "selector = RFE(model, n_features_to_select=75, step=10)  # Select top 50 features\n",
    "X_selected = selector.fit_transform(X, Y)\n",
    "X_selected = pd.DataFrame(X_selected, columns=X.columns[selector.support_])  # Keep only selected feature names\n",
    "\n",
    "\n"
   ]
  },
  {
   "cell_type": "markdown",
   "metadata": {},
   "source": [
    "Applying PCA to the dataset to reduce dimensionality and compare PCA, RFE and original dataset"
   ]
  },
  {
   "cell_type": "code",
   "execution_count": 8,
   "metadata": {},
   "outputs": [
    {
     "name": "stdout",
     "output_type": "stream",
     "text": [
      "Training on Original Dataset...\n",
      "Accuracy (Original): 0.7\n",
      "              precision    recall  f1-score   support\n",
      "\n",
      "         1.0       1.00      1.00      1.00         1\n",
      "         3.0       0.00      0.00      0.00         0\n",
      "         4.0       1.00      1.00      1.00         1\n",
      "         6.0       1.00      1.00      1.00         1\n",
      "         8.0       0.00      0.00      0.00         3\n",
      "         9.0       1.00      1.00      1.00         1\n",
      "        12.0       1.00      1.00      1.00         1\n",
      "        13.0       1.00      1.00      1.00         1\n",
      "        14.0       1.00      1.00      1.00         1\n",
      "\n",
      "    accuracy                           0.70        10\n",
      "   macro avg       0.78      0.78      0.78        10\n",
      "weighted avg       0.70      0.70      0.70        10\n",
      "\n",
      "\n",
      "Training on PCA-Transformed Data...\n",
      "Accuracy (PCA): 0.5\n",
      "              precision    recall  f1-score   support\n",
      "\n",
      "         1.0       0.00      0.00      0.00         1\n",
      "         3.0       0.00      0.00      0.00         0\n",
      "         4.0       0.00      0.00      0.00         1\n",
      "         6.0       1.00      1.00      1.00         1\n",
      "         8.0       0.00      0.00      0.00         3\n",
      "         9.0       1.00      1.00      1.00         1\n",
      "        12.0       0.50      1.00      0.67         1\n",
      "        13.0       1.00      1.00      1.00         1\n",
      "        14.0       1.00      1.00      1.00         1\n",
      "\n",
      "    accuracy                           0.50        10\n",
      "   macro avg       0.50      0.56      0.52        10\n",
      "weighted avg       0.45      0.50      0.47        10\n",
      "\n",
      "\n",
      "Training on RFE-Selected Features...\n"
     ]
    },
    {
     "name": "stderr",
     "output_type": "stream",
     "text": [
      "d:\\DEPAUL\\OTHER\\PROJECTS\\Gait analysis\\venv\\Lib\\site-packages\\sklearn\\metrics\\_classification.py:1565: UndefinedMetricWarning: Precision is ill-defined and being set to 0.0 in labels with no predicted samples. Use `zero_division` parameter to control this behavior.\n",
      "  _warn_prf(average, modifier, f\"{metric.capitalize()} is\", len(result))\n",
      "d:\\DEPAUL\\OTHER\\PROJECTS\\Gait analysis\\venv\\Lib\\site-packages\\sklearn\\metrics\\_classification.py:1565: UndefinedMetricWarning: Recall is ill-defined and being set to 0.0 in labels with no true samples. Use `zero_division` parameter to control this behavior.\n",
      "  _warn_prf(average, modifier, f\"{metric.capitalize()} is\", len(result))\n",
      "d:\\DEPAUL\\OTHER\\PROJECTS\\Gait analysis\\venv\\Lib\\site-packages\\sklearn\\metrics\\_classification.py:1565: UndefinedMetricWarning: Precision is ill-defined and being set to 0.0 in labels with no predicted samples. Use `zero_division` parameter to control this behavior.\n",
      "  _warn_prf(average, modifier, f\"{metric.capitalize()} is\", len(result))\n",
      "d:\\DEPAUL\\OTHER\\PROJECTS\\Gait analysis\\venv\\Lib\\site-packages\\sklearn\\metrics\\_classification.py:1565: UndefinedMetricWarning: Recall is ill-defined and being set to 0.0 in labels with no true samples. Use `zero_division` parameter to control this behavior.\n",
      "  _warn_prf(average, modifier, f\"{metric.capitalize()} is\", len(result))\n",
      "d:\\DEPAUL\\OTHER\\PROJECTS\\Gait analysis\\venv\\Lib\\site-packages\\sklearn\\metrics\\_classification.py:1565: UndefinedMetricWarning: Precision is ill-defined and being set to 0.0 in labels with no predicted samples. Use `zero_division` parameter to control this behavior.\n",
      "  _warn_prf(average, modifier, f\"{metric.capitalize()} is\", len(result))\n",
      "d:\\DEPAUL\\OTHER\\PROJECTS\\Gait analysis\\venv\\Lib\\site-packages\\sklearn\\metrics\\_classification.py:1565: UndefinedMetricWarning: Recall is ill-defined and being set to 0.0 in labels with no true samples. Use `zero_division` parameter to control this behavior.\n",
      "  _warn_prf(average, modifier, f\"{metric.capitalize()} is\", len(result))\n",
      "d:\\DEPAUL\\OTHER\\PROJECTS\\Gait analysis\\venv\\Lib\\site-packages\\sklearn\\metrics\\_classification.py:1565: UndefinedMetricWarning: Precision is ill-defined and being set to 0.0 in labels with no predicted samples. Use `zero_division` parameter to control this behavior.\n",
      "  _warn_prf(average, modifier, f\"{metric.capitalize()} is\", len(result))\n",
      "d:\\DEPAUL\\OTHER\\PROJECTS\\Gait analysis\\venv\\Lib\\site-packages\\sklearn\\metrics\\_classification.py:1565: UndefinedMetricWarning: Recall is ill-defined and being set to 0.0 in labels with no true samples. Use `zero_division` parameter to control this behavior.\n",
      "  _warn_prf(average, modifier, f\"{metric.capitalize()} is\", len(result))\n",
      "d:\\DEPAUL\\OTHER\\PROJECTS\\Gait analysis\\venv\\Lib\\site-packages\\sklearn\\metrics\\_classification.py:1565: UndefinedMetricWarning: Precision is ill-defined and being set to 0.0 in labels with no predicted samples. Use `zero_division` parameter to control this behavior.\n",
      "  _warn_prf(average, modifier, f\"{metric.capitalize()} is\", len(result))\n",
      "d:\\DEPAUL\\OTHER\\PROJECTS\\Gait analysis\\venv\\Lib\\site-packages\\sklearn\\metrics\\_classification.py:1565: UndefinedMetricWarning: Recall is ill-defined and being set to 0.0 in labels with no true samples. Use `zero_division` parameter to control this behavior.\n",
      "  _warn_prf(average, modifier, f\"{metric.capitalize()} is\", len(result))\n",
      "d:\\DEPAUL\\OTHER\\PROJECTS\\Gait analysis\\venv\\Lib\\site-packages\\sklearn\\metrics\\_classification.py:1565: UndefinedMetricWarning: Precision is ill-defined and being set to 0.0 in labels with no predicted samples. Use `zero_division` parameter to control this behavior.\n",
      "  _warn_prf(average, modifier, f\"{metric.capitalize()} is\", len(result))\n",
      "d:\\DEPAUL\\OTHER\\PROJECTS\\Gait analysis\\venv\\Lib\\site-packages\\sklearn\\metrics\\_classification.py:1565: UndefinedMetricWarning: Recall is ill-defined and being set to 0.0 in labels with no true samples. Use `zero_division` parameter to control this behavior.\n",
      "  _warn_prf(average, modifier, f\"{metric.capitalize()} is\", len(result))\n"
     ]
    },
    {
     "name": "stdout",
     "output_type": "stream",
     "text": [
      "Accuracy (RFE): 0.7\n",
      "              precision    recall  f1-score   support\n",
      "\n",
      "         1.0       1.00      1.00      1.00         1\n",
      "         2.0       0.00      0.00      0.00         0\n",
      "         4.0       1.00      1.00      1.00         1\n",
      "         6.0       1.00      1.00      1.00         1\n",
      "         8.0       0.00      0.00      0.00         3\n",
      "         9.0       1.00      1.00      1.00         1\n",
      "        12.0       1.00      1.00      1.00         1\n",
      "        13.0       1.00      1.00      1.00         1\n",
      "        14.0       1.00      1.00      1.00         1\n",
      "\n",
      "    accuracy                           0.70        10\n",
      "   macro avg       0.78      0.78      0.78        10\n",
      "weighted avg       0.70      0.70      0.70        10\n",
      "\n",
      "\n",
      "Cross-Validation Results:\n",
      "Original - Cross-Validation Accuracy: 0.7917 ± 0.0000\n"
     ]
    },
    {
     "name": "stderr",
     "output_type": "stream",
     "text": [
      "d:\\DEPAUL\\OTHER\\PROJECTS\\Gait analysis\\venv\\Lib\\site-packages\\sklearn\\metrics\\_classification.py:1565: UndefinedMetricWarning: Precision is ill-defined and being set to 0.0 in labels with no predicted samples. Use `zero_division` parameter to control this behavior.\n",
      "  _warn_prf(average, modifier, f\"{metric.capitalize()} is\", len(result))\n",
      "d:\\DEPAUL\\OTHER\\PROJECTS\\Gait analysis\\venv\\Lib\\site-packages\\sklearn\\metrics\\_classification.py:1565: UndefinedMetricWarning: Recall is ill-defined and being set to 0.0 in labels with no true samples. Use `zero_division` parameter to control this behavior.\n",
      "  _warn_prf(average, modifier, f\"{metric.capitalize()} is\", len(result))\n",
      "d:\\DEPAUL\\OTHER\\PROJECTS\\Gait analysis\\venv\\Lib\\site-packages\\sklearn\\metrics\\_classification.py:1565: UndefinedMetricWarning: Precision is ill-defined and being set to 0.0 in labels with no predicted samples. Use `zero_division` parameter to control this behavior.\n",
      "  _warn_prf(average, modifier, f\"{metric.capitalize()} is\", len(result))\n",
      "d:\\DEPAUL\\OTHER\\PROJECTS\\Gait analysis\\venv\\Lib\\site-packages\\sklearn\\metrics\\_classification.py:1565: UndefinedMetricWarning: Recall is ill-defined and being set to 0.0 in labels with no true samples. Use `zero_division` parameter to control this behavior.\n",
      "  _warn_prf(average, modifier, f\"{metric.capitalize()} is\", len(result))\n",
      "d:\\DEPAUL\\OTHER\\PROJECTS\\Gait analysis\\venv\\Lib\\site-packages\\sklearn\\metrics\\_classification.py:1565: UndefinedMetricWarning: Precision is ill-defined and being set to 0.0 in labels with no predicted samples. Use `zero_division` parameter to control this behavior.\n",
      "  _warn_prf(average, modifier, f\"{metric.capitalize()} is\", len(result))\n",
      "d:\\DEPAUL\\OTHER\\PROJECTS\\Gait analysis\\venv\\Lib\\site-packages\\sklearn\\metrics\\_classification.py:1565: UndefinedMetricWarning: Recall is ill-defined and being set to 0.0 in labels with no true samples. Use `zero_division` parameter to control this behavior.\n",
      "  _warn_prf(average, modifier, f\"{metric.capitalize()} is\", len(result))\n"
     ]
    },
    {
     "name": "stdout",
     "output_type": "stream",
     "text": [
      "PCA - Cross-Validation Accuracy: 0.4167 ± 0.0000\n",
      "RFE - Cross-Validation Accuracy: 0.9792 ± 0.0208\n",
      "Accuracy (Original): 0.7\n",
      "Accuracy (PCA): 0.5\n",
      "Accuracy (RFE): 0.7\n"
     ]
    }
   ],
   "source": [
    "from sklearn.decomposition import PCA\n",
    "X = df.drop(columns=['Person_ID'])  \n",
    "Y = df['Person_ID']\n",
    "\n",
    "# Standardize the data (important for PCA)\n",
    "scaler = StandardScaler()\n",
    "X_scaled = scaler.fit_transform(X)\n",
    "\n",
    "# Split the data into training and testing sets\n",
    "X_train, X_test, Y_train, Y_test = train_test_split(X_scaled, Y, test_size=0.2, random_state=42)\n",
    "\n",
    "# 1. Original Dataset\n",
    "print(\"Training on Original Dataset...\")\n",
    "model_original = RandomForestClassifier(random_state=42)\n",
    "model_original.fit(X_train, Y_train)\n",
    "Y_pred_original = model_original.predict(X_test)\n",
    "print(\"Accuracy (Original):\", accuracy_score(Y_test, Y_pred_original))\n",
    "print(classification_report(Y_test, Y_pred_original))\n",
    "\n",
    "# 2. PCA-Transformed Data\n",
    "print(\"\\nTraining on PCA-Transformed Data...\")\n",
    "pca = PCA(n_components=0.95)  # Retain 95% of the variance\n",
    "X_train_pca = pca.fit_transform(X_train)\n",
    "X_test_pca = pca.transform(X_test)\n",
    "\n",
    "model_pca = RandomForestClassifier(random_state=42)\n",
    "model_pca.fit(X_train_pca, Y_train)\n",
    "Y_pred_pca = model_pca.predict(X_test_pca)\n",
    "print(\"Accuracy (PCA):\", accuracy_score(Y_test, Y_pred_pca))\n",
    "print(classification_report(Y_test, Y_pred_pca))\n",
    "      \n",
    "\n",
    "# 3. RFE-Selected Features\n",
    "print(\"\\nTraining on RFE-Selected Features...\")\n",
    "model_rfe = RandomForestClassifier(random_state=42)\n",
    "selector = RFE(model_rfe, n_features_to_select=75, step=10)  # Select top 50 features\n",
    "X_train_rfe = selector.fit_transform(X_train, Y_train)\n",
    "X_test_rfe = selector.transform(X_test)\n",
    "\n",
    "model_rfe_selected = RandomForestClassifier(random_state=42)\n",
    "model_rfe_selected.fit(X_train_rfe, Y_train)\n",
    "Y_pred_rfe = model_rfe_selected.predict(X_test_rfe)\n",
    "print(\"Accuracy (RFE):\", accuracy_score(Y_test, Y_pred_rfe))\n",
    "print(classification_report(Y_test, Y_pred_rfe))\n",
    "\n",
    "# Cross-Validation for Robust Comparison\n",
    "print(\"\\nCross-Validation Results:\")\n",
    "datasets = {\n",
    "    \"Original\": X_scaled,\n",
    "    \"PCA\": pca.transform(X_scaled),\n",
    "    \"RFE\": selector.transform(X_scaled)\n",
    "}\n",
    "\n",
    "for name, data in datasets.items():\n",
    "    model = RandomForestClassifier(random_state=42)\n",
    "    scores = cross_val_score(model, data, Y, cv=2, scoring='accuracy')\n",
    "    print(f\"{name} - Cross-Validation Accuracy: {np.mean(scores):.4f} ± {np.std(scores):.4f}\")\n",
    "\n",
    "\n",
    "print(\"Accuracy (Original):\", accuracy_score(Y_test, Y_pred_original))\n",
    "print(\"Accuracy (PCA):\", accuracy_score(Y_test, Y_pred_pca))\n",
    "print(\"Accuracy (RFE):\", accuracy_score(Y_test, Y_pred_rfe))\n",
    "\n",
    "\n"
   ]
  },
  {
   "cell_type": "markdown",
   "metadata": {},
   "source": [
    "PCA is not increasing the accuracy, RFE and basic model has same accuracy but RFE has better cross validation accuracy than others\n"
   ]
  },
  {
   "cell_type": "markdown",
   "metadata": {},
   "source": [
    "MODELS ON RFE FEATURES"
   ]
  },
  {
   "cell_type": "code",
   "execution_count": 9,
   "metadata": {},
   "outputs": [
    {
     "name": "stdout",
     "output_type": "stream",
     "text": [
      "Classification Accuracy: 0.70\n",
      "Classification Accuracy: 0.70\n",
      "Classification Accuracy: 0.70\n",
      "\n",
      "Classification Report:\n",
      "               precision    recall  f1-score   support\n",
      "\n",
      "         1.0       1.00      1.00      1.00         1\n",
      "         2.0       0.00      0.00      0.00         0\n",
      "         3.0       0.00      0.00      0.00         0\n",
      "         4.0       1.00      1.00      1.00         1\n",
      "         6.0       1.00      1.00      1.00         1\n",
      "         8.0       0.00      0.00      0.00         3\n",
      "         9.0       1.00      1.00      1.00         1\n",
      "        12.0       1.00      1.00      1.00         1\n",
      "        13.0       1.00      1.00      1.00         1\n",
      "        14.0       1.00      1.00      1.00         1\n",
      "\n",
      "    accuracy                           0.70        10\n",
      "   macro avg       0.70      0.70      0.70        10\n",
      "weighted avg       0.70      0.70      0.70        10\n",
      "\n",
      "\n",
      "Classification Report:\n",
      "               precision    recall  f1-score   support\n",
      "\n",
      "         1.0       1.00      1.00      1.00         1\n",
      "         2.0       0.00      0.00      0.00         0\n",
      "         4.0       1.00      1.00      1.00         1\n",
      "         6.0       1.00      1.00      1.00         1\n",
      "         8.0       0.00      0.00      0.00         3\n",
      "         9.0       1.00      1.00      1.00         1\n",
      "        12.0       1.00      1.00      1.00         1\n",
      "        13.0       1.00      1.00      1.00         1\n",
      "        14.0       1.00      1.00      1.00         1\n",
      "\n",
      "    accuracy                           0.70        10\n",
      "   macro avg       0.78      0.78      0.78        10\n",
      "weighted avg       0.70      0.70      0.70        10\n",
      "\n",
      "\n",
      "Classification Report:\n",
      "               precision    recall  f1-score   support\n",
      "\n",
      "         1.0       1.00      1.00      1.00         1\n",
      "         2.0       0.00      0.00      0.00         0\n",
      "         3.0       0.00      0.00      0.00         0\n",
      "         4.0       1.00      1.00      1.00         1\n",
      "         6.0       1.00      1.00      1.00         1\n",
      "         8.0       0.00      0.00      0.00         3\n",
      "         9.0       1.00      1.00      1.00         1\n",
      "        12.0       1.00      1.00      1.00         1\n",
      "        13.0       1.00      1.00      1.00         1\n",
      "        14.0       1.00      1.00      1.00         1\n",
      "\n",
      "    accuracy                           0.70        10\n",
      "   macro avg       0.70      0.70      0.70        10\n",
      "weighted avg       0.70      0.70      0.70        10\n",
      "\n"
     ]
    },
    {
     "name": "stderr",
     "output_type": "stream",
     "text": [
      "d:\\DEPAUL\\OTHER\\PROJECTS\\Gait analysis\\venv\\Lib\\site-packages\\sklearn\\metrics\\_classification.py:1565: UndefinedMetricWarning: Precision is ill-defined and being set to 0.0 in labels with no predicted samples. Use `zero_division` parameter to control this behavior.\n",
      "  _warn_prf(average, modifier, f\"{metric.capitalize()} is\", len(result))\n",
      "d:\\DEPAUL\\OTHER\\PROJECTS\\Gait analysis\\venv\\Lib\\site-packages\\sklearn\\metrics\\_classification.py:1565: UndefinedMetricWarning: Recall is ill-defined and being set to 0.0 in labels with no true samples. Use `zero_division` parameter to control this behavior.\n",
      "  _warn_prf(average, modifier, f\"{metric.capitalize()} is\", len(result))\n",
      "d:\\DEPAUL\\OTHER\\PROJECTS\\Gait analysis\\venv\\Lib\\site-packages\\sklearn\\metrics\\_classification.py:1565: UndefinedMetricWarning: Precision is ill-defined and being set to 0.0 in labels with no predicted samples. Use `zero_division` parameter to control this behavior.\n",
      "  _warn_prf(average, modifier, f\"{metric.capitalize()} is\", len(result))\n",
      "d:\\DEPAUL\\OTHER\\PROJECTS\\Gait analysis\\venv\\Lib\\site-packages\\sklearn\\metrics\\_classification.py:1565: UndefinedMetricWarning: Recall is ill-defined and being set to 0.0 in labels with no true samples. Use `zero_division` parameter to control this behavior.\n",
      "  _warn_prf(average, modifier, f\"{metric.capitalize()} is\", len(result))\n",
      "d:\\DEPAUL\\OTHER\\PROJECTS\\Gait analysis\\venv\\Lib\\site-packages\\sklearn\\metrics\\_classification.py:1565: UndefinedMetricWarning: Precision is ill-defined and being set to 0.0 in labels with no predicted samples. Use `zero_division` parameter to control this behavior.\n",
      "  _warn_prf(average, modifier, f\"{metric.capitalize()} is\", len(result))\n",
      "d:\\DEPAUL\\OTHER\\PROJECTS\\Gait analysis\\venv\\Lib\\site-packages\\sklearn\\metrics\\_classification.py:1565: UndefinedMetricWarning: Recall is ill-defined and being set to 0.0 in labels with no true samples. Use `zero_division` parameter to control this behavior.\n",
      "  _warn_prf(average, modifier, f\"{metric.capitalize()} is\", len(result))\n",
      "d:\\DEPAUL\\OTHER\\PROJECTS\\Gait analysis\\venv\\Lib\\site-packages\\sklearn\\metrics\\_classification.py:1565: UndefinedMetricWarning: Precision is ill-defined and being set to 0.0 in labels with no predicted samples. Use `zero_division` parameter to control this behavior.\n",
      "  _warn_prf(average, modifier, f\"{metric.capitalize()} is\", len(result))\n",
      "d:\\DEPAUL\\OTHER\\PROJECTS\\Gait analysis\\venv\\Lib\\site-packages\\sklearn\\metrics\\_classification.py:1565: UndefinedMetricWarning: Recall is ill-defined and being set to 0.0 in labels with no true samples. Use `zero_division` parameter to control this behavior.\n",
      "  _warn_prf(average, modifier, f\"{metric.capitalize()} is\", len(result))\n",
      "d:\\DEPAUL\\OTHER\\PROJECTS\\Gait analysis\\venv\\Lib\\site-packages\\sklearn\\metrics\\_classification.py:1565: UndefinedMetricWarning: Precision is ill-defined and being set to 0.0 in labels with no predicted samples. Use `zero_division` parameter to control this behavior.\n",
      "  _warn_prf(average, modifier, f\"{metric.capitalize()} is\", len(result))\n",
      "d:\\DEPAUL\\OTHER\\PROJECTS\\Gait analysis\\venv\\Lib\\site-packages\\sklearn\\metrics\\_classification.py:1565: UndefinedMetricWarning: Recall is ill-defined and being set to 0.0 in labels with no true samples. Use `zero_division` parameter to control this behavior.\n",
      "  _warn_prf(average, modifier, f\"{metric.capitalize()} is\", len(result))\n",
      "d:\\DEPAUL\\OTHER\\PROJECTS\\Gait analysis\\venv\\Lib\\site-packages\\sklearn\\metrics\\_classification.py:1565: UndefinedMetricWarning: Precision is ill-defined and being set to 0.0 in labels with no predicted samples. Use `zero_division` parameter to control this behavior.\n",
      "  _warn_prf(average, modifier, f\"{metric.capitalize()} is\", len(result))\n",
      "d:\\DEPAUL\\OTHER\\PROJECTS\\Gait analysis\\venv\\Lib\\site-packages\\sklearn\\metrics\\_classification.py:1565: UndefinedMetricWarning: Recall is ill-defined and being set to 0.0 in labels with no true samples. Use `zero_division` parameter to control this behavior.\n",
      "  _warn_prf(average, modifier, f\"{metric.capitalize()} is\", len(result))\n",
      "d:\\DEPAUL\\OTHER\\PROJECTS\\Gait analysis\\venv\\Lib\\site-packages\\sklearn\\metrics\\_classification.py:1565: UndefinedMetricWarning: Precision is ill-defined and being set to 0.0 in labels with no predicted samples. Use `zero_division` parameter to control this behavior.\n",
      "  _warn_prf(average, modifier, f\"{metric.capitalize()} is\", len(result))\n",
      "d:\\DEPAUL\\OTHER\\PROJECTS\\Gait analysis\\venv\\Lib\\site-packages\\sklearn\\metrics\\_classification.py:1565: UndefinedMetricWarning: Recall is ill-defined and being set to 0.0 in labels with no true samples. Use `zero_division` parameter to control this behavior.\n",
      "  _warn_prf(average, modifier, f\"{metric.capitalize()} is\", len(result))\n",
      "d:\\DEPAUL\\OTHER\\PROJECTS\\Gait analysis\\venv\\Lib\\site-packages\\sklearn\\metrics\\_classification.py:1565: UndefinedMetricWarning: Precision is ill-defined and being set to 0.0 in labels with no predicted samples. Use `zero_division` parameter to control this behavior.\n",
      "  _warn_prf(average, modifier, f\"{metric.capitalize()} is\", len(result))\n",
      "d:\\DEPAUL\\OTHER\\PROJECTS\\Gait analysis\\venv\\Lib\\site-packages\\sklearn\\metrics\\_classification.py:1565: UndefinedMetricWarning: Recall is ill-defined and being set to 0.0 in labels with no true samples. Use `zero_division` parameter to control this behavior.\n",
      "  _warn_prf(average, modifier, f\"{metric.capitalize()} is\", len(result))\n",
      "d:\\DEPAUL\\OTHER\\PROJECTS\\Gait analysis\\venv\\Lib\\site-packages\\sklearn\\metrics\\_classification.py:1565: UndefinedMetricWarning: Precision is ill-defined and being set to 0.0 in labels with no predicted samples. Use `zero_division` parameter to control this behavior.\n",
      "  _warn_prf(average, modifier, f\"{metric.capitalize()} is\", len(result))\n",
      "d:\\DEPAUL\\OTHER\\PROJECTS\\Gait analysis\\venv\\Lib\\site-packages\\sklearn\\metrics\\_classification.py:1565: UndefinedMetricWarning: Recall is ill-defined and being set to 0.0 in labels with no true samples. Use `zero_division` parameter to control this behavior.\n",
      "  _warn_prf(average, modifier, f\"{metric.capitalize()} is\", len(result))\n"
     ]
    }
   ],
   "source": [
    "\n",
    "# Define features and target\n",
    "X = X_selected   # Features\n",
    "Y = df['Person_ID']  # Target variable\n",
    "\n",
    "# Split dataset into 80% training and 20% testing\n",
    "X_train, X_test, Y_train, Y_test = train_test_split(X, Y, test_size=0.20, random_state=42)\n",
    "\n",
    "# Initialize the Random Forest model\n",
    "#model = RandomForestClassifier(n_estimators=100, random_state=42)\n",
    "\n",
    "# Train the model\n",
    "model1.fit(X_train, Y_train)\n",
    "model2.fit(X_train, Y_train)\n",
    "model3.fit(X_train, Y_train)\n",
    "# Make predictions on the test set\n",
    "Y_pred_m1 = model1.predict(X_test)\n",
    "Y_pred_m2 = model2.predict(X_test)\n",
    "Y_pred_m3 = model3.predict(X_test)\n",
    "\n",
    "# Print classification accuracy\n",
    "\n",
    "accuracy_m1 = accuracy_score(Y_test, Y_pred_m1)\n",
    "print(f\"Classification Accuracy: {accuracy_m1:.2f}\")\n",
    "\n",
    "accuracy_m2 = accuracy_score(Y_test, Y_pred_m2)\n",
    "print(f\"Classification Accuracy: {accuracy_m2:.2f}\")\n",
    "\n",
    "accuracy_m3 = accuracy_score(Y_test, Y_pred_m3)\n",
    "print(f\"Classification Accuracy: {accuracy_m3:.2f}\")\n",
    "\n",
    "# Detailed classification report\n",
    "print(\"\\nClassification Report:\\n\", classification_report(Y_test, Y_pred_m1))\n",
    "print(\"\\nClassification Report:\\n\", classification_report(Y_test, Y_pred_m2))\n",
    "print(\"\\nClassification Report:\\n\", classification_report(Y_test, Y_pred_m3))\n"
   ]
  },
  {
   "cell_type": "markdown",
   "metadata": {},
   "source": [
    "FEATURE IMPORTANCE OF RFE FEATURE MODELS"
   ]
  },
  {
   "cell_type": "code",
   "execution_count": 10,
   "metadata": {},
   "outputs": [
    {
     "data": {
      "image/png": "[encoded data removed]",
      "text/plain": [
       "<Figure size 1200x500 with 1 Axes>"
      ]
     },
     "metadata": {},
     "output_type": "display_data"
    },
    {
     "data": {
      "image/png": "[encoded data removed]",
      "text/plain": [
       "<Figure size 1200x500 with 1 Axes>"
      ]
     },
     "metadata": {},
     "output_type": "display_data"
    },
    {
     "data": {
      "image/png": "[encoded data removed]",
      "text/plain": [
       "<Figure size 1200x500 with 1 Axes>"
      ]
     },
     "metadata": {},
     "output_type": "display_data"
    }
   ],
   "source": [
    "# Feature Importances\n",
    "feature_importances_m1 = model1.feature_importances_\n",
    "feature_importances_m2 = model2.feature_importances_\n",
    "feature_importances_m3 = model3.feature_importances_\n",
    "\n",
    "# Sort features by importance for all models\n",
    "sorted_indices_m1 = np.argsort(feature_importances_m1)[::-1]\n",
    "sorted_indices_m2 = np.argsort(feature_importances_m2)[::-1]\n",
    "sorted_indices_m3 = np.argsort(feature_importances_m3)[::-1]\n",
    "\n",
    "# Select top 10 features\n",
    "top_features_m1 = np.array(X.columns)[sorted_indices_m1[:10]]\n",
    "top_importances_m1 = feature_importances_m1[sorted_indices_m1[:10]]\n",
    "\n",
    "top_features_m2 = np.array(X.columns)[sorted_indices_m2[:10]]\n",
    "top_importances_m2 = feature_importances_m2[sorted_indices_m2[:10]]\n",
    "\n",
    "top_features_m3 = np.array(X.columns)[sorted_indices_m3[:10]]\n",
    "top_importances_m3 = feature_importances_m3[sorted_indices_m3[:10]]\n",
    "\n",
    "# Plot Feature Importances\n",
    "plt.figure(figsize=(12, 5))\n",
    "sns.barplot(x=top_features_m1, y=top_importances_m1, color=\"blue\")\n",
    "plt.xticks(rotation=90)\n",
    "plt.xlabel(\"Feature\")\n",
    "plt.ylabel(\"Importance\")\n",
    "plt.title(\"Top 10 Most Important Features - Model 1 (Full Features)\")\n",
    "plt.show()\n",
    "\n",
    "plt.figure(figsize=(12, 5))\n",
    "sns.barplot(x=top_features_m2, y=top_importances_m2, color=\"green\")\n",
    "plt.xticks(rotation=90)\n",
    "plt.xlabel(\"Feature\")\n",
    "plt.ylabel(\"Importance\")\n",
    "plt.title(\"Top 10 Most Important Features - Model 2 (optimized hyperparameters)\")\n",
    "plt.show()\n",
    "\n",
    "plt.figure(figsize=(12, 5))\n",
    "sns.barplot(x=top_features_m3, y=top_importances_m3, color=\"red\")\n",
    "plt.xticks(rotation=90)\n",
    "plt.xlabel(\"Feature\")\n",
    "plt.ylabel(\"Importance\")\n",
    "plt.title(\"Top 10 Most Important Features - Model 3 (Regularized Features)\")\n",
    "plt.show()\n",
    "\n",
    "\n"
   ]
  },
  {
   "cell_type": "markdown",
   "metadata": {},
   "source": [
    "COMMON FEATURES IN RFE MODELS"
   ]
  },
  {
   "cell_type": "code",
   "execution_count": 11,
   "metadata": {},
   "outputs": [
    {
     "name": "stdout",
     "output_type": "stream",
     "text": [
      "Common Features in All Models:\n",
      "  Common Features\n",
      "0             221\n",
      "1             252\n",
      "2             295\n"
     ]
    }
   ],
   "source": [
    "# Find common features among the top 10 features of all three models\n",
    "common_features = set(top_features_m1) & set(top_features_m2) & set(top_features_m3)\n",
    "\n",
    "# Convert to DataFrame for display\n",
    "common_features_df = pd.DataFrame({\"Common Features\": list(common_features)})\n",
    "\n",
    "# Display the common features\n",
    "print(\"Common Features in All Models:\")\n",
    "print(common_features_df)"
   ]
  },
  {
   "cell_type": "markdown",
   "metadata": {},
   "source": [
    "PERFORMING LOO CROSS VALIDATION"
   ]
  },
  {
   "cell_type": "code",
   "execution_count": 12,
   "metadata": {},
   "outputs": [
    {
     "name": "stdout",
     "output_type": "stream",
     "text": [
      "Average Accuracy with Model 1: 0.9583 ± 0.1998\n",
      "Average Accuracy with Model 2: 0.9583 ± 0.1998\n",
      "Average Accuracy with Model 3: 0.8125 ± 0.3903\n"
     ]
    },
    {
     "data": {
      "image/png": "[encoded data removed]",
      "text/plain": [
       "<Figure size 1200x500 with 1 Axes>"
      ]
     },
     "metadata": {},
     "output_type": "display_data"
    },
    {
     "data": {
      "image/png": "[encoded data removed]",
      "text/plain": [
       "<Figure size 1200x500 with 1 Axes>"
      ]
     },
     "metadata": {},
     "output_type": "display_data"
    },
    {
     "data": {
      "image/png": "[encoded data removed]",
      "text/plain": [
       "<Figure size 1200x500 with 1 Axes>"
      ]
     },
     "metadata": {},
     "output_type": "display_data"
    }
   ],
   "source": [
    "from sklearn.model_selection import LeaveOneOut \n",
    "from sklearn.ensemble import RandomForestClassifier\n",
    "from sklearn.metrics import accuracy_score\n",
    "import numpy as np\n",
    "import matplotlib.pyplot as plt\n",
    "import seaborn as sns\n",
    "\n",
    "# Define features and target\n",
    "X = df.drop(columns=['Person_ID'])  \n",
    "Y = df['Person_ID']\n",
    "\n",
    "# Initialize Leave-One-Out CV\n",
    "loo = LeaveOneOut()\n",
    "\n",
    "# Store accuracy scores\n",
    "scores_m1 = []\n",
    "scores_m2 = []\n",
    "scores_m3 = []\n",
    "\n",
    "# Perform LOO Cross-Validation\n",
    "for train_index, test_index in loo.split(X):\n",
    "    X_train, X_test = X.iloc[train_index], X.iloc[test_index]\n",
    "    Y_train, Y_test = Y.iloc[train_index], Y.iloc[test_index]\n",
    "\n",
    "    # Initialize Models\n",
    "    model1 = RandomForestClassifier(n_estimators=100, random_state=42)\n",
    "    model2 = RandomForestClassifier(max_depth=10, min_samples_leaf=1, min_samples_split=2, n_estimators=300)\n",
    "    model3 = RandomForestClassifier(\n",
    "        max_depth=5, min_samples_split=5, min_samples_leaf=3, n_estimators=200, random_state=42\n",
    "    )\n",
    "\n",
    "    # Train models\n",
    "    model1.fit(X_train, Y_train)\n",
    "    model2.fit(X_train, Y_train)\n",
    "    model3.fit(X_train, Y_train)\n",
    "\n",
    "    # Predict\n",
    "    Y_pred_m1 = model1.predict(X_test)\n",
    "    Y_pred_m2 = model2.predict(X_test)\n",
    "    Y_pred_m3 = model3.predict(X_test)\n",
    "\n",
    "    # Store accuracy scores\n",
    "    scores_m1.append(accuracy_score(Y_test, Y_pred_m1))\n",
    "    scores_m2.append(accuracy_score(Y_test, Y_pred_m2))\n",
    "    scores_m3.append(accuracy_score(Y_test, Y_pred_m3))\n",
    "\n",
    "# Print final results\n",
    "print(f\"Average Accuracy with Model 1: {np.mean(scores_m1):.4f} ± {np.std(scores_m1):.4f}\")\n",
    "print(f\"Average Accuracy with Model 2: {np.mean(scores_m2):.4f} ± {np.std(scores_m2):.4f}\")\n",
    "print(f\"Average Accuracy with Model 3: {np.mean(scores_m3):.4f} ± {np.std(scores_m3):.4f}\")\n",
    "\n",
    "# Feature Importances\n",
    "feature_importances_m1 = model1.feature_importances_\n",
    "feature_importances_m2 = model2.feature_importances_\n",
    "feature_importances_m3 = model3.feature_importances_\n",
    "\n",
    "# Sort features by importance for all models\n",
    "sorted_indices_m1 = np.argsort(feature_importances_m1)[::-1]\n",
    "sorted_indices_m2 = np.argsort(feature_importances_m2)[::-1]\n",
    "sorted_indices_m3 = np.argsort(feature_importances_m3)[::-1]\n",
    "\n",
    "# Select top 10 features\n",
    "top_features_m1 = np.array(X.columns)[sorted_indices_m1[:10]]\n",
    "top_importances_m1 = feature_importances_m1[sorted_indices_m1[:10]]\n",
    "\n",
    "top_features_m2 = np.array(X.columns)[sorted_indices_m2[:10]]\n",
    "top_importances_m2 = feature_importances_m2[sorted_indices_m2[:10]]\n",
    "\n",
    "top_features_m3 = np.array(X.columns)[sorted_indices_m3[:10]]\n",
    "top_importances_m3 = feature_importances_m3[sorted_indices_m3[:10]]\n",
    "\n",
    "# Plot Feature Importances\n",
    "plt.figure(figsize=(12, 5))\n",
    "sns.barplot(x=top_features_m1, y=top_importances_m1, color=\"blue\")\n",
    "plt.xticks(rotation=90)\n",
    "plt.xlabel(\"Feature\")\n",
    "plt.ylabel(\"Importance\")\n",
    "plt.title(\"Top 10 Most Important Features - Model 1 (Full Features)\")\n",
    "plt.show()\n",
    "\n",
    "plt.figure(figsize=(12, 5))\n",
    "sns.barplot(x=top_features_m2, y=top_importances_m2, color=\"green\")\n",
    "plt.xticks(rotation=90)\n",
    "plt.xlabel(\"Feature\")\n",
    "plt.ylabel(\"Importance\")\n",
    "plt.title(\"Top 10 Most Important Features - Model 2 (optimized hyperparameters)\")\n",
    "plt.show()\n",
    "\n",
    "plt.figure(figsize=(12, 5))\n",
    "sns.barplot(x=top_features_m3, y=top_importances_m3, color=\"red\")\n",
    "plt.xticks(rotation=90)\n",
    "plt.xlabel(\"Feature\")\n",
    "plt.ylabel(\"Importance\")\n",
    "plt.title(\"Top 10 Most Important Features - Model 3 (Regularized Features)\")\n",
    "plt.show()\n"
   ]
  },
  {
   "cell_type": "markdown",
   "metadata": {},
   "source": [
    "COMMON FEATURES IN ALL MODELS"
   ]
  },
  {
   "cell_type": "code",
   "execution_count": 13,
   "metadata": {},
   "outputs": [
    {
     "name": "stdout",
     "output_type": "stream",
     "text": [
      "Common Features in All Models:\n",
      "  Common Features\n",
      "0             221\n",
      "1             226\n",
      "2             175\n"
     ]
    }
   ],
   "source": [
    "# Find common features among the top 10 features of all three models\n",
    "common_features = set(top_features_m1) & set(top_features_m2) & set(top_features_m3)\n",
    "\n",
    "# Convert to DataFrame for display\n",
    "common_features_df = pd.DataFrame({\"Common Features\": list(common_features)})\n",
    "\n",
    "# Display the common features\n",
    "print(\"Common Features in All Models:\")\n",
    "print(common_features_df)"
   ]
  },
  {
   "cell_type": "markdown",
   "metadata": {},
   "source": [
    "Average Accuracy with Model 1: 0.9583 ± 0.1998\n",
    "Average Accuracy with Model 2: 0.9583 ± 0.1998\n",
    "Average Accuracy with Model 3: 0.8125 ± 0.3903\n",
    "\n",
    "MAIN ISSUE WITH LOO : The model sees a person’s data in training (2 out of 3 times), it might just memorize it instead of generalizing well."
   ]
  },
  {
   "cell_type": "markdown",
   "metadata": {},
   "source": [
    "GROUPED K-FOLD\n",
    "\n",
    "Instead of randomly splitting records, group them by Person_ID, so that:\n",
    "\n",
    "Each fold has completely different individuals.\n",
    "The model is tested on data from unseen Person_IDs, ensuring better generalization."
   ]
  },
  {
   "cell_type": "code",
   "execution_count": 14,
   "metadata": {},
   "outputs": [
    {
     "name": "stdout",
     "output_type": "stream",
     "text": [
      "Grouped k-Fold CV Accuracy - Model 1 (Baseline): 0.0000 ± 0.0000\n",
      "Grouped k-Fold CV Accuracy - Model 2 (Optimized): 0.0000 ± 0.0000\n",
      "Grouped k-Fold CV Accuracy - Model 3 (Regularized): 0.0000 ± 0.0000\n"
     ]
    }
   ],
   "source": [
    "from sklearn.model_selection import GroupKFold\n",
    "\n",
    "X = X_selected  \n",
    "Y = df['Person_ID']\n",
    "\n",
    "# Define Group K-Fold (ensures each person is only in one fold)\n",
    "gkf = GroupKFold(n_splits=3)\n",
    "\n",
    "# Store accuracy scores for all models\n",
    "scores_m1 = []  # Model 1 (Baseline)\n",
    "scores_m2 = []  # Model 2 (Optimized Hyperparameters)\n",
    "scores_m3 = []  # Model 3 (Regularized)\n",
    "\n",
    "# Perform Grouped k-Fold Cross-Validation\n",
    "for train_index, test_index in gkf.split(X, Y, groups=df[\"Person_ID\"]):\n",
    "    X_train, X_test = X.iloc[train_index], X.iloc[test_index]\n",
    "    Y_train, Y_test = Y.iloc[train_index], Y.iloc[test_index]\n",
    "\n",
    "    # Initialize Models\n",
    "    model1 = RandomForestClassifier(n_estimators=100, random_state=42)  # Baseline\n",
    "    model2 = RandomForestClassifier(max_depth=10, min_samples_leaf=1, min_samples_split=2, n_estimators=300)  # Optimized Hyperparameters\n",
    "    model3 = RandomForestClassifier(max_depth=5, min_samples_split=5, min_samples_leaf=3, n_estimators=200, random_state=42)  # Regularized\n",
    "\n",
    "    # Train models\n",
    "    model1.fit(X_train, Y_train)\n",
    "    model2.fit(X_train, Y_train)\n",
    "    model3.fit(X_train, Y_train)\n",
    "\n",
    "    # Predict\n",
    "    Y_pred_m1 = model1.predict(X_test)\n",
    "    Y_pred_m2 = model2.predict(X_test)\n",
    "    Y_pred_m3 = model3.predict(X_test)\n",
    "\n",
    "    # Store accuracy scores\n",
    "    scores_m1.append(accuracy_score(Y_test, Y_pred_m1))\n",
    "    scores_m2.append(accuracy_score(Y_test, Y_pred_m2))\n",
    "    scores_m3.append(accuracy_score(Y_test, Y_pred_m3))\n",
    "\n",
    "# Print final results\n",
    "print(f\"Grouped k-Fold CV Accuracy - Model 1 (Baseline): {np.mean(scores_m1):.4f} ± {np.std(scores_m1):.4f}\")\n",
    "print(f\"Grouped k-Fold CV Accuracy - Model 2 (Optimized): {np.mean(scores_m2):.4f} ± {np.std(scores_m2):.4f}\")\n",
    "print(f\"Grouped k-Fold CV Accuracy - Model 3 (Regularized): {np.mean(scores_m3):.4f} ± {np.std(scores_m3):.4f}\")\n"
   ]
  },
  {
   "cell_type": "markdown",
   "metadata": {},
   "source": [
    "print(X_train.head())\n"
   ]
  },
  {
   "cell_type": "code",
   "execution_count": 15,
   "metadata": {},
   "outputs": [
    {
     "name": "stdout",
     "output_type": "stream",
     "text": [
      "Train Person_IDs: [ 1.  2.  4.  5.  7.  8. 10. 11. 13. 14.]\n",
      "Test Person_IDs: [ 0.  3.  6.  9. 12. 15.]\n",
      "--------------------------------------------------\n",
      "Train Person_IDs: [ 0.  1.  3.  4.  6.  7.  9. 10. 12. 13. 15.]\n",
      "Test Person_IDs: [ 2.  5.  8. 11. 14.]\n",
      "--------------------------------------------------\n",
      "Train Person_IDs: [ 0.  2.  3.  5.  6.  8.  9. 11. 12. 14. 15.]\n",
      "Test Person_IDs: [ 1.  4.  7. 10. 13.]\n",
      "--------------------------------------------------\n"
     ]
    }
   ],
   "source": [
    "# Check Person_IDs in each train/test set\n",
    "for train_index, test_index in gkf.split(X, Y, groups=df[\"Person_ID\"]):\n",
    "    print(\"Train Person_IDs:\", df.iloc[train_index][\"Person_ID\"].unique())\n",
    "    print(\"Test Person_IDs:\", df.iloc[test_index][\"Person_ID\"].unique())\n",
    "    print(\"-\" * 50)\n"
   ]
  },
  {
   "cell_type": "markdown",
   "metadata": {},
   "source": [
    "The models are learning person-specific patterns (since Person_ID has only 3 records per individual).\n",
    "\n",
    "In Grouped k-Fold CV, the test set contains completely new Person_IDs, meaning the model has never seen those individuals before.\n",
    "\n",
    "The model is failing to generalize to unseen Person_IDs, leading to 100% misclassification (0% accuracy)."
   ]
  },
  {
   "cell_type": "markdown",
   "metadata": {},
   "source": [
    "STRATIFIED K-FOLD"
   ]
  },
  {
   "cell_type": "code",
   "execution_count": 16,
   "metadata": {},
   "outputs": [
    {
     "name": "stdout",
     "output_type": "stream",
     "text": [
      "Stratified k-Fold CV Accuracy - Model 1 (Baseline): 0.9792 ± 0.0295\n",
      "Stratified k-Fold CV Accuracy - Model 2 (Optimized): 0.9792 ± 0.0295\n",
      "Stratified k-Fold CV Accuracy - Model 3 (Regularized): 1.0000 ± 0.0000\n"
     ]
    }
   ],
   "source": [
    "from sklearn.model_selection import StratifiedKFold\n",
    "\n",
    "# Define Stratified K-Fold (ensures balanced distribution)\n",
    "skf = StratifiedKFold(n_splits=3, shuffle=True, random_state=42)\n",
    "\n",
    "# Store accuracy scores\n",
    "scores_m1 = []\n",
    "scores_m2 = []\n",
    "scores_m3 = []\n",
    "\n",
    "# Perform Stratified k-Fold Cross-Validation\n",
    "for train_index, test_index in skf.split(X, Y):\n",
    "    X_train, X_test = X.iloc[train_index], X.iloc[test_index]\n",
    "    Y_train, Y_test = Y.iloc[train_index], Y.iloc[test_index]\n",
    "\n",
    "    # Initialize Models\n",
    "    model1 = RandomForestClassifier(n_estimators=100, random_state=42)\n",
    "    model2 = RandomForestClassifier(max_depth=10, min_samples_leaf=1, min_samples_split=2, n_estimators=300)\n",
    "    model3 = RandomForestClassifier(max_depth=5, min_samples_split=5, min_samples_leaf=3, n_estimators=200, random_state=42)\n",
    "\n",
    "    # Train models\n",
    "    model1.fit(X_train, Y_train)\n",
    "    model2.fit(X_train, Y_train)\n",
    "    model3.fit(X_train, Y_train)\n",
    "\n",
    "    # Predict\n",
    "    Y_pred_m1 = model1.predict(X_test)\n",
    "    Y_pred_m2 = model2.predict(X_test)\n",
    "    Y_pred_m3 = model3.predict(X_test)\n",
    "\n",
    "    # Store accuracy scores\n",
    "    scores_m1.append(accuracy_score(Y_test, Y_pred_m1))\n",
    "    scores_m2.append(accuracy_score(Y_test, Y_pred_m2))\n",
    "    scores_m3.append(accuracy_score(Y_test, Y_pred_m3))\n",
    "\n",
    "# Print final results\n",
    "print(f\"Stratified k-Fold CV Accuracy - Model 1 (Baseline): {np.mean(scores_m1):.4f} ± {np.std(scores_m1):.4f}\")\n",
    "print(f\"Stratified k-Fold CV Accuracy - Model 2 (Optimized): {np.mean(scores_m2):.4f} ± {np.std(scores_m2):.4f}\")\n",
    "print(f\"Stratified k-Fold CV Accuracy - Model 3 (Regularized): {np.mean(scores_m3):.4f} ± {np.std(scores_m3):.4f}\")\n"
   ]
  },
  {
   "cell_type": "markdown",
   "metadata": {},
   "source": [
    "HOLD OUT ACCURACY"
   ]
  },
  {
   "cell_type": "code",
   "execution_count": 17,
   "metadata": {},
   "outputs": [
    {
     "name": "stdout",
     "output_type": "stream",
     "text": [
      "Holdout Test Accuracy - Model 1 (Baseline): 1.0000\n",
      "Holdout Test Accuracy - Model 2 (Optimized): 1.0000\n",
      "Holdout Test Accuracy - Model 3 (Regularized): 1.0000\n"
     ]
    }
   ],
   "source": [
    "from sklearn.model_selection import train_test_split\n",
    "\n",
    "# Ensure the dataset is shuffled properly before splitting\n",
    "X_train, X_test, Y_train, Y_test = train_test_split(X, Y, test_size=0.33, stratify=df[\"Person_ID\"], random_state=42)\n",
    "\n",
    "# Initialize models\n",
    "model1 = RandomForestClassifier(n_estimators=100, random_state=42)\n",
    "model2 = RandomForestClassifier(max_depth=10, min_samples_leaf=1, min_samples_split=2, n_estimators=300)\n",
    "model3 = RandomForestClassifier(max_depth=5, min_samples_split=5, min_samples_leaf=3, n_estimators=200, random_state=42)\n",
    "\n",
    "# Train models\n",
    "model1.fit(X_train, Y_train)\n",
    "model2.fit(X_train, Y_train)\n",
    "model3.fit(X_train, Y_train)\n",
    "\n",
    "# Predict\n",
    "Y_pred_m1 = model1.predict(X_test)\n",
    "Y_pred_m2 = model2.predict(X_test)\n",
    "Y_pred_m3 = model3.predict(X_test)\n",
    "\n",
    "# Print accuracy\n",
    "print(f\"Holdout Test Accuracy - Model 1 (Baseline): {accuracy_score(Y_test, Y_pred_m1):.4f}\")\n",
    "print(f\"Holdout Test Accuracy - Model 2 (Optimized): {accuracy_score(Y_test, Y_pred_m2):.4f}\")\n",
    "print(f\"Holdout Test Accuracy - Model 3 (Regularized): {accuracy_score(Y_test, Y_pred_m3):.4f}\")\n"
   ]
  },
  {
   "cell_type": "markdown",
   "metadata": {},
   "source": [
    "Shuffle Labels Test for All Models"
   ]
  },
  {
   "cell_type": "code",
   "execution_count": 18,
   "metadata": {},
   "outputs": [
    {
     "name": "stdout",
     "output_type": "stream",
     "text": [
      "🚨 Accuracy with Shuffled Labels - Model 1 (Baseline): 1.0000\n",
      "🚨 Accuracy with Shuffled Labels - Model 2 (Optimized): 1.0000\n",
      "🚨 Accuracy with Shuffled Labels - Model 3 (Regularized): 1.0000\n"
     ]
    }
   ],
   "source": [
    "from sklearn.utils import shuffle\n",
    "from sklearn.ensemble import RandomForestClassifier\n",
    "from sklearn.metrics import accuracy_score\n",
    "\n",
    "# Shuffle X_train and Y_train TOGETHER (important!)\n",
    "X_train_shuffled, Y_train_shuffled = shuffle(X_train, Y_train, random_state=42)\n",
    "\n",
    "# Initialize models (same as before)\n",
    "model1_shuffled = RandomForestClassifier(n_estimators=100, random_state=42)\n",
    "model2_shuffled = RandomForestClassifier(max_depth=10, min_samples_leaf=1, min_samples_split=2, n_estimators=300)\n",
    "model3_shuffled = RandomForestClassifier(max_depth=5, min_samples_split=5, min_samples_leaf=3, n_estimators=200, random_state=42)\n",
    "\n",
    "# Train models on shuffled labels\n",
    "model1_shuffled.fit(X_train_shuffled, Y_train_shuffled)\n",
    "model2_shuffled.fit(X_train_shuffled, Y_train_shuffled)\n",
    "model3_shuffled.fit(X_train_shuffled, Y_train_shuffled)\n",
    "\n",
    "# Predict on test set\n",
    "Y_pred_m1_shuffled = model1_shuffled.predict(X_test)\n",
    "Y_pred_m2_shuffled = model2_shuffled.predict(X_test)\n",
    "Y_pred_m3_shuffled = model3_shuffled.predict(X_test)\n",
    "\n",
    "# Check accuracy\n",
    "shuffled_accuracy_m1 = accuracy_score(Y_test, Y_pred_m1_shuffled)\n",
    "shuffled_accuracy_m2 = accuracy_score(Y_test, Y_pred_m2_shuffled)\n",
    "shuffled_accuracy_m3 = accuracy_score(Y_test, Y_pred_m3_shuffled)\n",
    "\n",
    "print(f\"🚨 Accuracy with Shuffled Labels - Model 1 (Baseline): {shuffled_accuracy_m1:.4f}\")\n",
    "print(f\"🚨 Accuracy with Shuffled Labels - Model 2 (Optimized): {shuffled_accuracy_m2:.4f}\")\n",
    "print(f\"🚨 Accuracy with Shuffled Labels - Model 3 (Regularized): {shuffled_accuracy_m3:.4f}\")\n"
   ]
  },
  {
   "cell_type": "markdown",
   "metadata": {},
   "source": [
    "Check for Features That Perfectly Correlate with Person_ID|"
   ]
  },
  {
   "cell_type": "code",
   "execution_count": 19,
   "metadata": {},
   "outputs": [
    {
     "name": "stdout",
     "output_type": "stream",
     "text": [
      "🔍 Features with High Correlation to `Person_ID`:\n",
      "Series([], dtype: float64)\n"
     ]
    }
   ],
   "source": [
    "import pandas as pd\n",
    "\n",
    "# Compute correlation of each feature with Person_ID\n",
    "correlations = X.corrwith(Y)\n",
    "\n",
    "# Print features with high correlation\n",
    "print(\"🔍 Features with High Correlation to `Person_ID`:\")\n",
    "print(correlations[abs(correlations) > 0.9])  # Show features with very high correlation\n"
   ]
  },
  {
   "cell_type": "code",
   "execution_count": 20,
   "metadata": {},
   "outputs": [
    {
     "name": "stdout",
     "output_type": "stream",
     "text": [
      "🔍 Features That Are Unique for Every Record:\n",
      "20     48\n",
      "84     48\n",
      "100    48\n",
      "113    48\n",
      "116    48\n",
      "146    48\n",
      "163    48\n",
      "164    48\n",
      "177    48\n",
      "191    48\n",
      "204    48\n",
      "227    48\n",
      "248    48\n",
      "dtype: int64\n"
     ]
    }
   ],
   "source": [
    "unique_counts = X.nunique()\n",
    "print(\"🔍 Features That Are Unique for Every Record:\")\n",
    "print(unique_counts[unique_counts == X.shape[0]])  # Features that are unique for every row\n"
   ]
  },
  {
   "cell_type": "code",
   "execution_count": 21,
   "metadata": {},
   "outputs": [
    {
     "name": "stdout",
     "output_type": "stream",
     "text": [
      "🔍 Number of Overlapping Records in Train & Test: 0\n"
     ]
    }
   ],
   "source": [
    "# Convert train and test sets to DataFrames\n",
    "train_df = pd.DataFrame(X_train)\n",
    "test_df = pd.DataFrame(X_test)\n",
    "\n",
    "# Check for overlap\n",
    "overlap = train_df.merge(test_df, how='inner')\n",
    "print(f\"🔍 Number of Overlapping Records in Train & Test: {overlap.shape[0]}\")\n"
   ]
  },
  {
   "cell_type": "markdown",
   "metadata": {},
   "source": [
    "CONFIRMING STRATIFIED CV ACCURACY"
   ]
  },
  {
   "cell_type": "code",
   "execution_count": null,
   "metadata": {},
   "outputs": [],
   "source": []
  }
 ],
 "metadata": {
  "kernelspec": {
   "display_name": "venv",
   "language": "python",
   "name": "python3"
  },
  "language_info": {
   "codemirror_mode": {
    "name": "ipython",
    "version": 3
   },
   "file_extension": ".py",
   "mimetype": "text/x-python",
   "name": "python",
   "nbconvert_exporter": "python",
   "pygments_lexer": "ipython3",
   "version": "3.13.2"
  }
 },
 "nbformat": 4,
 "nbformat_minor": 2
}
